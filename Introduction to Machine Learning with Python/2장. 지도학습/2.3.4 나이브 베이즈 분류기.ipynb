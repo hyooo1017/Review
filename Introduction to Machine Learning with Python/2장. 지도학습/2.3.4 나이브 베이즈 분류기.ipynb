{
 "cells": [
  {
   "cell_type": "code",
   "execution_count": 1,
   "metadata": {},
   "outputs": [],
   "source": [
    "# %load basic.py\n",
    "from IPython.display import set_matplotlib_formats, display\n",
    "import numpy as np\n",
    "import pandas as pd\n",
    "import mglearn\n",
    "import matplotlib\n",
    "import matplotlib.pyplot as plt\n",
    "from matplotlib import rc, font_manager\n",
    "from cycler import cycler\n",
    "\n",
    "font_name = font_manager.FontProperties(fname = \"C:/Windows/Fonts/H2GTRM.TTF\").get_name()\n",
    "rc('font', family = font_name)\n",
    "matplotlib.rcParams['axes.unicode_minus'] = False\n",
    "\n",
    "set_matplotlib_formats('pdf', 'png')\n",
    "plt.rcParams['savefig.dpi'] = 300\n",
    "plt.rcParams['figure.dpi'] = 300\n",
    "plt.rcParams['image.cmap'] = \"viridis\"\n",
    "plt.rcParams['image.interpolation'] = \"none\"\n",
    "plt.rcParams['savefig.bbox'] = \"tight\"\n",
    "plt.rcParams['lines.linewidth'] = 2\n",
    "plt.rcParams['legend.numpoints'] = 1\n",
    "plt.rc('axes', prop_cycle=(\n",
    "    cycler('color', mglearn.plot_helpers.cm_cycle.colors) +\n",
    "    cycler('linestyle', ['-', '-', \"--\", (0, (3, 3)), (0, (1.5, 1.5))])))\n",
    "\n",
    "\n",
    "np.set_printoptions(precision=3, suppress=True)\n",
    "\n",
    "pd.set_option(\"display.max_columns\", 8)\n",
    "pd.set_option('precision', 2)\n",
    "\n",
    "__all__ = ['np', 'mglearn', 'display', 'plt', 'pd']"
   ]
  },
  {
   "cell_type": "code",
   "execution_count": 2,
   "metadata": {},
   "outputs": [],
   "source": [
    "# %load import_set2.py\n",
    "\n",
    "# sklearn dataset\n",
    "from sklearn.datasets import load_breast_cancer\n",
    "from sklearn.datasets import load_boston\n",
    "from sklearn.datasets import make_blobs\n",
    "from sklearn.datasets import make_moons\n",
    "from sklearn.datasets import make_circles\n",
    "from sklearn.datasets import load_iris\n",
    "\n",
    "from sklearn.model_selection import train_test_split\n",
    "from sklearn.tree import export_graphviz\n",
    "import graphviz\n",
    "import os\n",
    "from mpl_toolkits.mplot3d import Axes3D, axes3d\n",
    "\n",
    "# sklearn에 있는 모델들\n",
    "from sklearn.neighbors import KNeighborsClassifier\n",
    "from sklearn.neighbors import KNeighborsRegressor\n",
    "from sklearn.linear_model import LinearRegression\n",
    "from sklearn.linear_model import Ridge\n",
    "from sklearn.linear_model import Lasso\n",
    "from sklearn.linear_model import LogisticRegression\n",
    "from sklearn.svm import LinearSVC\n",
    "from sklearn.tree import DecisionTreeClassifier\n",
    "from sklearn.tree import DecisionTreeRegressor\n",
    "from sklearn.ensemble import RandomForestClassifier\n",
    "from sklearn.ensemble import GradientBoostingClassifier\n",
    "from sklearn.ensemble import BaggingClassifier\n",
    "from sklearn.ensemble import ExtraTreesClassifier\n",
    "from sklearn.ensemble import AdaBoostClassifier\n",
    "from sklearn.svm import SVC\n",
    "from sklearn.neural_network import MLPClassifier"
   ]
  },
  {
   "cell_type": "markdown",
   "metadata": {},
   "source": [
    "## 2.3.4 나이브 베이즈 분류기"
   ]
  },
  {
   "cell_type": "markdown",
   "metadata": {},
   "source": [
    "**나이브 베이즈(naive bayes) 분류기**는  \n",
    "각 특성을 개별로 취급해 파라미터를 학습하고 각 특성에서 클래스별 통계를 단순하게 취합하기 때문에 선형 모델과 매우 유사합니다.  \n",
    "- scikit-learn에 구현된 나이브 베이즈 분류기는 **GaussianNB, BernoulliNB, MultinomiaNB** 세 가지입니다.  \n",
    "- GaussianNB는 연속적인 어떤 데이터에도 적용할 수 있고 BernoulliNB는 이진데이터, MultinomiaNB는 카운터 데이터에 적용됩니다.  \n",
    "- BernoulliNB과 MultinomiaNB는 대부분 텍스트 데이터를 분류할 때 사용합니다.  \n",
    "- BernoulliNB 분류기는 각 클래스의 특성 중 0이 아닌 것이 몇 개인지 셉니다.  \n",
    "- MultinomiaNB는 클래스별로 특성의 평균을 계산합니다.  \n",
    "- GaussianNB는 클래스별로 각 특성의 표준편차와 평균을 저장합니다."
   ]
  },
  {
   "cell_type": "markdown",
   "metadata": {},
   "source": [
    "#### BernoulliNB 분류기의 예시"
   ]
  },
  {
   "cell_type": "code",
   "execution_count": 3,
   "metadata": {},
   "outputs": [],
   "source": [
    "X = np.array([[0, 1, 0, 1], [1, 0, 1, 1], [0, 0, 0, 1], [1, 0, 1, 0]])\n",
    "y = np.array([0, 1, 0, 1])"
   ]
  },
  {
   "cell_type": "code",
   "execution_count": 4,
   "metadata": {},
   "outputs": [
    {
     "name": "stdout",
     "output_type": "stream",
     "text": [
      "특성 카운트 :\n",
      " {0: array([0, 1, 0, 2]), 1: array([2, 0, 2, 1])}\n"
     ]
    }
   ],
   "source": [
    "counts = {}\n",
    "for label in np.unique(y):\n",
    "    # 각 클래스에 대해 반복\n",
    "    # 특성마다 1이 나타난 횟수를 센다.\n",
    "    counts[label] = X[y == label].sum(axis = 0)\n",
    "print(\"특성 카운트 :\\n\", counts)"
   ]
  },
  {
   "cell_type": "markdown",
   "metadata": {},
   "source": [
    "MultinomiaNB와 BernoulliNB의 예측 공식은 선형 모델과 같지만 나이브 베이즈 모델의 coef_는 기울기 w가 아니라서 의미가 다릅니다."
   ]
  },
  {
   "cell_type": "markdown",
   "metadata": {},
   "source": [
    "### 장단점과 매개변수"
   ]
  },
  {
   "cell_type": "markdown",
   "metadata": {},
   "source": [
    "MultinomiaNB와 BernoulliNB는 모델의 복잡도를 조절하는 alpha 매개변수 하나를 가집니다.  \n",
    "alpha가 크면 통계 데이터를 더 완만하게 만들고 모델의 복잡도는 낮아집니다.  \n",
    "(alpha값이 성능 향상에 크게 기여하지 않지만 어느 정도 정확도를 높일 수 있습니다.)"
   ]
  },
  {
   "cell_type": "markdown",
   "metadata": {},
   "source": [
    "GaussianNB는 대부분 매우 고차원 dataset에 사용하고, 다른 두 나이브 베이즈 모델은 텍스트같은 희소한 데이터를 카운트하는데 사용합니다.  \n",
    "(MultinomiaNB는 보통 0이 아닌 특성이 많은 dataset에서 BernoulliNB보다 성능이 높습니다.)  "
   ]
  },
  {
   "cell_type": "markdown",
   "metadata": {},
   "source": [
    "나이브 베이즈 모델의 장단점은 선형 모델과 비슷합니다.  \n",
    "1. 훈련과 예측 속도가 빠르며 훈련 과정을 이해하기 쉽습니다.\n",
    "2. 희소한 고차원 데이터에서 잘 작동하며 비교적 매개변수에 민감하지 않습니다.  \n",
    "3. **선형 모델로는 학습시간이 너무 오래 걸리는 매우 큰 dataset에는 나이브 베이즈 모델을 시도해볼 만하여 종종 사용됩니다.**"
   ]
  },
  {
   "cell_type": "code",
   "execution_count": null,
   "metadata": {},
   "outputs": [],
   "source": []
  }
 ],
 "metadata": {
  "kernelspec": {
   "display_name": "Python 3",
   "language": "python",
   "name": "python3"
  },
  "language_info": {
   "codemirror_mode": {
    "name": "ipython",
    "version": 3
   },
   "file_extension": ".py",
   "mimetype": "text/x-python",
   "name": "python",
   "nbconvert_exporter": "python",
   "pygments_lexer": "ipython3",
   "version": "3.7.3"
  }
 },
 "nbformat": 4,
 "nbformat_minor": 2
}
