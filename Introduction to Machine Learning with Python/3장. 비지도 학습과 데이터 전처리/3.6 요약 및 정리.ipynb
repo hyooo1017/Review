{
 "cells": [
  {
   "cell_type": "markdown",
   "metadata": {},
   "source": [
    "# 3.6 요약 및 정리"
   ]
  },
  {
   "cell_type": "markdown",
   "metadata": {},
   "source": [
    "데이터를 올바르게 표현하는 것은 지도 학습과 비지도 학습을 잘 적용하기 위해 필수  \n",
    "전처리와 분해 방법은 데이터 준비 단계에서 아주 중요한 부분  \n",
    "\n",
    "분해, 매니폴드 학습, 군집  \n",
    "- 데이터에 대한 이해를 높이기 위한 필수 도구  \n",
    "- 레이블 정보가 없을 때 데이터를 분석할 수 있는 유일한 방법  \n",
    "(지도학습에서도 데이터 탐색 도구는 데이터 특성을 잘 이해하는데 중요함)  "
   ]
  },
  {
   "cell_type": "code",
   "execution_count": null,
   "metadata": {},
   "outputs": [],
   "source": []
  }
 ],
 "metadata": {
  "kernelspec": {
   "display_name": "Python 3",
   "language": "python",
   "name": "python3"
  },
  "language_info": {
   "codemirror_mode": {
    "name": "ipython",
    "version": 3
   },
   "file_extension": ".py",
   "mimetype": "text/x-python",
   "name": "python",
   "nbconvert_exporter": "python",
   "pygments_lexer": "ipython3",
   "version": "3.7.3"
  }
 },
 "nbformat": 4,
 "nbformat_minor": 2
}
