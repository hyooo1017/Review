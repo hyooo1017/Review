{
 "cells": [
  {
   "cell_type": "markdown",
   "metadata": {},
   "source": [
    "데이터가 2차원 실수형 배열로 각 열이 데이터 포인트를 설명하는 **연속형 특성**이라고 가정했습니다.  \n",
    "일반적인 특성의 전형적인 형태는 **범주형(이산형) 특성**이라고 하는데 보통 숫자값이 아닙니다.  \n",
    "이 값들은 중간값이 없고 카테고리들 사이에는 순서가 없습니다.  \n",
    "\n",
    "특정 어플리케이션에 가장 적합한 데이터 표현을 찾는 것을 **특성 공학**(feature engineering)이라고 하며,  \n",
    "데이터 과학자와 머신러닝 기술자가 실제 문제를 풀기 위해 당면하는 주요 작업 중 하나입니다."
   ]
  },
  {
   "cell_type": "markdown",
   "metadata": {},
   "source": [
    "# 4.1 범주형 변수"
   ]
  },
  {
   "cell_type": "markdown",
   "metadata": {},
   "source": [
    "## 4.1.1 원-핫-인코딩(가변수)"
   ]
  },
  {
   "cell_type": "markdown",
   "metadata": {},
   "source": [
    "**원핫인코딩, 원아웃오브엔인코딩**, 가변수  \n",
    "- 범주형 변수를 표현하는 데 가장 널리 쓰이는 방법  \n",
    "- 범주형 변수를 0 또는 1 값을 가진 하나 이상의 새로운 특성으로 바꾼 것"
   ]
  },
  {
   "cell_type": "code",
   "execution_count": null,
   "metadata": {},
   "outputs": [],
   "source": [
    "import os\n",
    "# 이 파일은 열 이름"
   ]
  }
 ],
 "metadata": {
  "kernelspec": {
   "display_name": "Python 3",
   "language": "python",
   "name": "python3"
  },
  "language_info": {
   "codemirror_mode": {
    "name": "ipython",
    "version": 3
   },
   "file_extension": ".py",
   "mimetype": "text/x-python",
   "name": "python",
   "nbconvert_exporter": "python",
   "pygments_lexer": "ipython3",
   "version": "3.7.3"
  }
 },
 "nbformat": 4,
 "nbformat_minor": 2
}
